{
  "cells": [
    {
      "cell_type": "markdown",
      "metadata": {},
      "source": [
        "# **Certificate Manager Agent**"
      ]
    },
    {
      "cell_type": "markdown",
      "metadata": {},
      "source": [
        "## **About the Scenario**\n",
        "This scenario demonstrates how to build an AI-powered Certification Manager Agent using Azure AI Agent Service. The agent is designed to analyze certification data stored in Excel files, convert them to a compatible format, and enable intelligent querying and comparison of certification offerings from various providers. By integrating file search, function calling, and Bing search capabilities, the agent can answer user questions, compare internal data with external sources, and highlight any discrepancies or insights. This workflow showcases the end-to-end process of preparing data, configuring the agent, running queries, and extracting actionable insights—all within a secure and reproducible environment."
      ]
    },
    {
      "cell_type": "markdown",
      "metadata": {},
      "source": [
        "## **Data**\n",
        "This scenario uses a certification dataset stored in the [`data/`](./data/) folder of this repository. The primary file, `workday_data.xlsx`, contains detailed information about certification providers, certification names, and related guidelines.\n",
        "\n",
        "Make sure you have the following file in the `data/` directory before running the notebook:\n",
        "\n",
        "- workday_data.xlsx\n",
        "\n",
        "This file will be processed and converted to a Markdown table for compatibility with Azure AI Agent Service. The agent will use this data to analyze, compare, and answer queries about certification offerings from various providers.\n"
      ]
    },
    {
      "cell_type": "markdown",
      "metadata": {},
      "source": [
        "## **Before you begin**"
      ]
    },
    {
      "cell_type": "markdown",
      "metadata": {},
      "source": [
        "#### Step 1: Install required libraries\n",
        "Installing dependencies directly within a Jupyter notebook is a good practice because it ensures that all required packages are installed in the correct versions, making the notebook self-contained and reproducible. This approach helps other users or collaborators to set up the environment quickly and avoid potential issues related to missing or incompatible packages."
      ]
    },
    {
      "cell_type": "code",
      "execution_count": 230,
      "metadata": {},
      "outputs": [
        {
          "name": "stdout",
          "output_type": "stream",
          "text": [
            "Requirement already satisfied: azure-ai-projects in ./.venv/lib/python3.11/site-packages (from -r ./requirements.txt (line 1)) (1.0.0b11)\n",
            "Requirement already satisfied: azure-identity in ./.venv/lib/python3.11/site-packages (from -r ./requirements.txt (line 2)) (1.23.0)\n",
            "Requirement already satisfied: openpyxl in ./.venv/lib/python3.11/site-packages (from -r ./requirements.txt (line 3)) (3.1.5)\n",
            "Requirement already satisfied: openai in ./.venv/lib/python3.11/site-packages (from -r ./requirements.txt (line 4)) (1.88.0)\n",
            "Requirement already satisfied: pandas in ./.venv/lib/python3.11/site-packages (from -r ./requirements.txt (line 5)) (2.3.0)\n",
            "Requirement already satisfied: python-dotenv in ./.venv/lib/python3.11/site-packages (from -r ./requirements.txt (line 6)) (1.1.0)\n",
            "Requirement already satisfied: tabulate in ./.venv/lib/python3.11/site-packages (from -r ./requirements.txt (line 7)) (0.9.0)\n",
            "Requirement already satisfied: azure-cli in ./.venv/lib/python3.11/site-packages (from -r ./requirements.txt (line 8)) (2.74.0)\n",
            "Requirement already satisfied: azure-functions in ./.venv/lib/python3.11/site-packages (from -r ./requirements.txt (line 9)) (1.23.0)\n",
            "Requirement already satisfied: isodate>=0.6.1 in ./.venv/lib/python3.11/site-packages (from azure-ai-projects->-r ./requirements.txt (line 1)) (0.7.2)\n",
            "Requirement already satisfied: azure-core>=1.30.0 in ./.venv/lib/python3.11/site-packages (from azure-ai-projects->-r ./requirements.txt (line 1)) (1.34.0)\n",
            "Requirement already satisfied: typing-extensions>=4.12.2 in ./.venv/lib/python3.11/site-packages (from azure-ai-projects->-r ./requirements.txt (line 1)) (4.14.0)\n",
            "Requirement already satisfied: azure-storage-blob>=12.15.0 in ./.venv/lib/python3.11/site-packages (from azure-ai-projects->-r ./requirements.txt (line 1)) (12.25.1)\n",
            "Requirement already satisfied: azure-ai-agents>=1.0.0b1 in ./.venv/lib/python3.11/site-packages (from azure-ai-projects->-r ./requirements.txt (line 1)) (1.1.0b2)\n",
            "Requirement already satisfied: cryptography>=2.5 in ./.venv/lib/python3.11/site-packages (from azure-identity->-r ./requirements.txt (line 2)) (45.0.4)\n",
            "Requirement already satisfied: msal>=1.30.0 in ./.venv/lib/python3.11/site-packages (from azure-identity->-r ./requirements.txt (line 2)) (1.32.3)\n",
            "Requirement already satisfied: msal-extensions>=1.2.0 in ./.venv/lib/python3.11/site-packages (from azure-identity->-r ./requirements.txt (line 2)) (1.2.0)\n",
            "Requirement already satisfied: et-xmlfile in ./.venv/lib/python3.11/site-packages (from openpyxl->-r ./requirements.txt (line 3)) (2.0.0)\n",
            "Requirement already satisfied: anyio<5,>=3.5.0 in ./.venv/lib/python3.11/site-packages (from openai->-r ./requirements.txt (line 4)) (4.9.0)\n",
            "Requirement already satisfied: distro<2,>=1.7.0 in ./.venv/lib/python3.11/site-packages (from openai->-r ./requirements.txt (line 4)) (1.9.0)\n",
            "Requirement already satisfied: httpx<1,>=0.23.0 in ./.venv/lib/python3.11/site-packages (from openai->-r ./requirements.txt (line 4)) (0.28.1)\n",
            "Requirement already satisfied: jiter<1,>=0.4.0 in ./.venv/lib/python3.11/site-packages (from openai->-r ./requirements.txt (line 4)) (0.10.0)\n",
            "Requirement already satisfied: pydantic<3,>=1.9.0 in ./.venv/lib/python3.11/site-packages (from openai->-r ./requirements.txt (line 4)) (2.11.7)\n",
            "Requirement already satisfied: sniffio in ./.venv/lib/python3.11/site-packages (from openai->-r ./requirements.txt (line 4)) (1.3.1)\n",
            "Requirement already satisfied: tqdm>4 in ./.venv/lib/python3.11/site-packages (from openai->-r ./requirements.txt (line 4)) (4.67.1)\n",
            "Requirement already satisfied: idna>=2.8 in ./.venv/lib/python3.11/site-packages (from anyio<5,>=3.5.0->openai->-r ./requirements.txt (line 4)) (3.10)\n",
            "Requirement already satisfied: certifi in ./.venv/lib/python3.11/site-packages (from httpx<1,>=0.23.0->openai->-r ./requirements.txt (line 4)) (2025.6.15)\n",
            "Requirement already satisfied: httpcore==1.* in ./.venv/lib/python3.11/site-packages (from httpx<1,>=0.23.0->openai->-r ./requirements.txt (line 4)) (1.0.9)\n",
            "Requirement already satisfied: h11>=0.16 in ./.venv/lib/python3.11/site-packages (from httpcore==1.*->httpx<1,>=0.23.0->openai->-r ./requirements.txt (line 4)) (0.16.0)\n",
            "Requirement already satisfied: annotated-types>=0.6.0 in ./.venv/lib/python3.11/site-packages (from pydantic<3,>=1.9.0->openai->-r ./requirements.txt (line 4)) (0.7.0)\n",
            "Requirement already satisfied: pydantic-core==2.33.2 in ./.venv/lib/python3.11/site-packages (from pydantic<3,>=1.9.0->openai->-r ./requirements.txt (line 4)) (2.33.2)\n",
            "Requirement already satisfied: typing-inspection>=0.4.0 in ./.venv/lib/python3.11/site-packages (from pydantic<3,>=1.9.0->openai->-r ./requirements.txt (line 4)) (0.4.1)\n",
            "Requirement already satisfied: numpy>=1.23.2 in ./.venv/lib/python3.11/site-packages (from pandas->-r ./requirements.txt (line 5)) (2.3.0)\n",
            "Requirement already satisfied: python-dateutil>=2.8.2 in ./.venv/lib/python3.11/site-packages (from pandas->-r ./requirements.txt (line 5)) (2.9.0.post0)\n",
            "Requirement already satisfied: pytz>=2020.1 in ./.venv/lib/python3.11/site-packages (from pandas->-r ./requirements.txt (line 5)) (2025.2)\n",
            "Requirement already satisfied: tzdata>=2022.7 in ./.venv/lib/python3.11/site-packages (from pandas->-r ./requirements.txt (line 5)) (2025.2)\n",
            "Requirement already satisfied: antlr4-python3-runtime~=4.13.1 in ./.venv/lib/python3.11/site-packages (from azure-cli->-r ./requirements.txt (line 8)) (4.13.2)\n",
            "Requirement already satisfied: azure-appconfiguration~=1.7.0 in ./.venv/lib/python3.11/site-packages (from azure-cli->-r ./requirements.txt (line 8)) (1.7.1)\n",
            "Requirement already satisfied: azure-batch~=15.0.0b1 in ./.venv/lib/python3.11/site-packages (from azure-cli->-r ./requirements.txt (line 8)) (15.0.0b2)\n",
            "Requirement already satisfied: azure-cli-core==2.74.0 in ./.venv/lib/python3.11/site-packages (from azure-cli->-r ./requirements.txt (line 8)) (2.74.0)\n",
            "Requirement already satisfied: azure-cosmos>=3.0.2,~=3.0 in ./.venv/lib/python3.11/site-packages (from azure-cli->-r ./requirements.txt (line 8)) (3.2.0)\n",
            "Requirement already satisfied: azure-data-tables==12.4.0 in ./.venv/lib/python3.11/site-packages (from azure-cli->-r ./requirements.txt (line 8)) (12.4.0)\n",
            "Requirement already satisfied: azure-datalake-store~=1.0.0a0 in ./.venv/lib/python3.11/site-packages (from azure-cli->-r ./requirements.txt (line 8)) (1.0.1)\n",
            "Requirement already satisfied: azure-keyvault-administration==4.4.0b2 in ./.venv/lib/python3.11/site-packages (from azure-cli->-r ./requirements.txt (line 8)) (4.4.0b2)\n",
            "Requirement already satisfied: azure-keyvault-certificates==4.7.0 in ./.venv/lib/python3.11/site-packages (from azure-cli->-r ./requirements.txt (line 8)) (4.7.0)\n",
            "Requirement already satisfied: azure-keyvault-keys==4.11.0b1 in ./.venv/lib/python3.11/site-packages (from azure-cli->-r ./requirements.txt (line 8)) (4.11.0b1)\n",
            "Requirement already satisfied: azure-keyvault-secrets==4.7.0 in ./.venv/lib/python3.11/site-packages (from azure-cli->-r ./requirements.txt (line 8)) (4.7.0)\n",
            "Requirement already satisfied: azure-keyvault-securitydomain==1.0.0b1 in ./.venv/lib/python3.11/site-packages (from azure-cli->-r ./requirements.txt (line 8)) (1.0.0b1)\n",
            "Requirement already satisfied: azure-mgmt-advisor==9.0.0 in ./.venv/lib/python3.11/site-packages (from azure-cli->-r ./requirements.txt (line 8)) (9.0.0)\n",
            "Requirement already satisfied: azure-mgmt-apimanagement==4.0.0 in ./.venv/lib/python3.11/site-packages (from azure-cli->-r ./requirements.txt (line 8)) (4.0.0)\n",
            "Requirement already satisfied: azure-mgmt-appconfiguration==3.1.0 in ./.venv/lib/python3.11/site-packages (from azure-cli->-r ./requirements.txt (line 8)) (3.1.0)\n",
            "Requirement already satisfied: azure-mgmt-appcontainers==2.0.0 in ./.venv/lib/python3.11/site-packages (from azure-cli->-r ./requirements.txt (line 8)) (2.0.0)\n",
            "Requirement already satisfied: azure-mgmt-applicationinsights~=1.0.0 in ./.venv/lib/python3.11/site-packages (from azure-cli->-r ./requirements.txt (line 8)) (1.0.0)\n",
            "Requirement already satisfied: azure-mgmt-authorization~=4.0.0 in ./.venv/lib/python3.11/site-packages (from azure-cli->-r ./requirements.txt (line 8)) (4.0.0)\n",
            "Requirement already satisfied: azure-mgmt-batchai==7.0.0b1 in ./.venv/lib/python3.11/site-packages (from azure-cli->-r ./requirements.txt (line 8)) (7.0.0b1)\n",
            "Requirement already satisfied: azure-mgmt-batch~=17.3.0 in ./.venv/lib/python3.11/site-packages (from azure-cli->-r ./requirements.txt (line 8)) (17.3.0)\n",
            "Requirement already satisfied: azure-mgmt-billing==6.0.0 in ./.venv/lib/python3.11/site-packages (from azure-cli->-r ./requirements.txt (line 8)) (6.0.0)\n",
            "Requirement already satisfied: azure-mgmt-botservice~=2.0.0b3 in ./.venv/lib/python3.11/site-packages (from azure-cli->-r ./requirements.txt (line 8)) (2.0.0)\n",
            "Requirement already satisfied: azure-mgmt-cdn==12.0.0 in ./.venv/lib/python3.11/site-packages (from azure-cli->-r ./requirements.txt (line 8)) (12.0.0)\n",
            "Requirement already satisfied: azure-mgmt-cognitiveservices~=13.5.0 in ./.venv/lib/python3.11/site-packages (from azure-cli->-r ./requirements.txt (line 8)) (13.5.0)\n",
            "Requirement already satisfied: azure-mgmt-compute~=34.1.0 in ./.venv/lib/python3.11/site-packages (from azure-cli->-r ./requirements.txt (line 8)) (34.1.0)\n",
            "Requirement already satisfied: azure-mgmt-containerinstance==10.2.0b1 in ./.venv/lib/python3.11/site-packages (from azure-cli->-r ./requirements.txt (line 8)) (10.2.0b1)\n",
            "Requirement already satisfied: azure-mgmt-containerregistry==14.0.0 in ./.venv/lib/python3.11/site-packages (from azure-cli->-r ./requirements.txt (line 8)) (14.0.0)\n",
            "Requirement already satisfied: azure-mgmt-containerservice~=36.0.0 in ./.venv/lib/python3.11/site-packages (from azure-cli->-r ./requirements.txt (line 8)) (36.0.0)\n",
            "Requirement already satisfied: azure-mgmt-cosmosdb==9.8.0 in ./.venv/lib/python3.11/site-packages (from azure-cli->-r ./requirements.txt (line 8)) (9.8.0)\n",
            "Requirement already satisfied: azure-mgmt-databoxedge~=1.0.0 in ./.venv/lib/python3.11/site-packages (from azure-cli->-r ./requirements.txt (line 8)) (1.0.0)\n",
            "Requirement already satisfied: azure-mgmt-datalake-store~=1.1.0b1 in ./.venv/lib/python3.11/site-packages (from azure-cli->-r ./requirements.txt (line 8)) (1.1.0b1)\n",
            "Requirement already satisfied: azure-mgmt-datamigration~=10.0.0 in ./.venv/lib/python3.11/site-packages (from azure-cli->-r ./requirements.txt (line 8)) (10.0.0)\n",
            "Requirement already satisfied: azure-mgmt-dns~=8.0.0 in ./.venv/lib/python3.11/site-packages (from azure-cli->-r ./requirements.txt (line 8)) (8.0.0)\n",
            "Requirement already satisfied: azure-mgmt-eventgrid==10.2.0b2 in ./.venv/lib/python3.11/site-packages (from azure-cli->-r ./requirements.txt (line 8)) (10.2.0b2)\n",
            "Requirement already satisfied: azure-mgmt-eventhub~=10.1.0 in ./.venv/lib/python3.11/site-packages (from azure-cli->-r ./requirements.txt (line 8)) (10.1.0)\n",
            "Requirement already satisfied: azure-mgmt-extendedlocation==1.0.0b2 in ./.venv/lib/python3.11/site-packages (from azure-cli->-r ./requirements.txt (line 8)) (1.0.0b2)\n",
            "Requirement already satisfied: azure-mgmt-hdinsight==9.0.0b3 in ./.venv/lib/python3.11/site-packages (from azure-cli->-r ./requirements.txt (line 8)) (9.0.0b3)\n",
            "Requirement already satisfied: azure-mgmt-imagebuilder~=1.3.0 in ./.venv/lib/python3.11/site-packages (from azure-cli->-r ./requirements.txt (line 8)) (1.3.0)\n",
            "Requirement already satisfied: azure-mgmt-iotcentral~=10.0.0b1 in ./.venv/lib/python3.11/site-packages (from azure-cli->-r ./requirements.txt (line 8)) (10.0.0b2)\n",
            "Requirement already satisfied: azure-mgmt-iothub==3.0.0 in ./.venv/lib/python3.11/site-packages (from azure-cli->-r ./requirements.txt (line 8)) (3.0.0)\n",
            "Requirement already satisfied: azure-mgmt-iothubprovisioningservices==1.1.0 in ./.venv/lib/python3.11/site-packages (from azure-cli->-r ./requirements.txt (line 8)) (1.1.0)\n",
            "Requirement already satisfied: azure-mgmt-keyvault==11.0.0 in ./.venv/lib/python3.11/site-packages (from azure-cli->-r ./requirements.txt (line 8)) (11.0.0)\n",
            "Requirement already satisfied: azure-mgmt-loganalytics==13.0.0b4 in ./.venv/lib/python3.11/site-packages (from azure-cli->-r ./requirements.txt (line 8)) (13.0.0b4)\n",
            "Requirement already satisfied: azure-mgmt-managementgroups~=1.0.0 in ./.venv/lib/python3.11/site-packages (from azure-cli->-r ./requirements.txt (line 8)) (1.0.0)\n",
            "Requirement already satisfied: azure-mgmt-maps~=2.0.0 in ./.venv/lib/python3.11/site-packages (from azure-cli->-r ./requirements.txt (line 8)) (2.0.0)\n",
            "Requirement already satisfied: azure-mgmt-marketplaceordering==1.1.0 in ./.venv/lib/python3.11/site-packages (from azure-cli->-r ./requirements.txt (line 8)) (1.1.0)\n",
            "Requirement already satisfied: azure-mgmt-media~=9.0 in ./.venv/lib/python3.11/site-packages (from azure-cli->-r ./requirements.txt (line 8)) (9.0.0)\n",
            "Requirement already satisfied: azure-mgmt-monitor~=7.0.0b1 in ./.venv/lib/python3.11/site-packages (from azure-cli->-r ./requirements.txt (line 8)) (7.0.0b2)\n",
            "Requirement already satisfied: azure-mgmt-msi~=7.0.0 in ./.venv/lib/python3.11/site-packages (from azure-cli->-r ./requirements.txt (line 8)) (7.0.0)\n",
            "Requirement already satisfied: azure-mgmt-netapp~=10.1.0 in ./.venv/lib/python3.11/site-packages (from azure-cli->-r ./requirements.txt (line 8)) (10.1.0)\n",
            "Requirement already satisfied: azure-mgmt-policyinsights==1.1.0b4 in ./.venv/lib/python3.11/site-packages (from azure-cli->-r ./requirements.txt (line 8)) (1.1.0b4)\n",
            "Requirement already satisfied: azure-mgmt-postgresqlflexibleservers==1.1.0b2 in ./.venv/lib/python3.11/site-packages (from azure-cli->-r ./requirements.txt (line 8)) (1.1.0b2)\n",
            "Requirement already satisfied: azure-mgmt-privatedns~=1.0.0 in ./.venv/lib/python3.11/site-packages (from azure-cli->-r ./requirements.txt (line 8)) (1.0.0)\n",
            "Requirement already satisfied: azure-mgmt-rdbms==10.2.0b17 in ./.venv/lib/python3.11/site-packages (from azure-cli->-r ./requirements.txt (line 8)) (10.2.0b17)\n",
            "Requirement already satisfied: azure-mgmt-mysqlflexibleservers==1.0.0b3 in ./.venv/lib/python3.11/site-packages (from azure-cli->-r ./requirements.txt (line 8)) (1.0.0b3)\n",
            "Requirement already satisfied: azure-mgmt-recoveryservicesbackup~=9.2.0 in ./.venv/lib/python3.11/site-packages (from azure-cli->-r ./requirements.txt (line 8)) (9.2.0)\n",
            "Requirement already satisfied: azure-mgmt-recoveryservices~=3.0.0 in ./.venv/lib/python3.11/site-packages (from azure-cli->-r ./requirements.txt (line 8)) (3.0.0)\n",
            "Requirement already satisfied: azure-mgmt-redhatopenshift~=1.5.0 in ./.venv/lib/python3.11/site-packages (from azure-cli->-r ./requirements.txt (line 8)) (1.5.0)\n",
            "Requirement already satisfied: azure-mgmt-redis~=14.5.0 in ./.venv/lib/python3.11/site-packages (from azure-cli->-r ./requirements.txt (line 8)) (14.5.0)\n",
            "Requirement already satisfied: azure-mgmt-resource==23.3.0 in ./.venv/lib/python3.11/site-packages (from azure-cli->-r ./requirements.txt (line 8)) (23.3.0)\n",
            "Requirement already satisfied: azure-mgmt-search~=9.0 in ./.venv/lib/python3.11/site-packages (from azure-cli->-r ./requirements.txt (line 8)) (9.1.0)\n",
            "Requirement already satisfied: azure-mgmt-security==6.0.0 in ./.venv/lib/python3.11/site-packages (from azure-cli->-r ./requirements.txt (line 8)) (6.0.0)\n",
            "Requirement already satisfied: azure-mgmt-servicebus~=8.2.0 in ./.venv/lib/python3.11/site-packages (from azure-cli->-r ./requirements.txt (line 8)) (8.2.1)\n",
            "Requirement already satisfied: azure-mgmt-servicefabricmanagedclusters==2.1.0b1 in ./.venv/lib/python3.11/site-packages (from azure-cli->-r ./requirements.txt (line 8)) (2.1.0b1)\n",
            "Requirement already satisfied: azure-mgmt-servicelinker==1.2.0b3 in ./.venv/lib/python3.11/site-packages (from azure-cli->-r ./requirements.txt (line 8)) (1.2.0b3)\n",
            "Requirement already satisfied: azure-mgmt-servicefabric~=2.1.0 in ./.venv/lib/python3.11/site-packages (from azure-cli->-r ./requirements.txt (line 8)) (2.1.0)\n",
            "Requirement already satisfied: azure-mgmt-signalr==2.0.0b2 in ./.venv/lib/python3.11/site-packages (from azure-cli->-r ./requirements.txt (line 8)) (2.0.0b2)\n",
            "Requirement already satisfied: azure-mgmt-sqlvirtualmachine==1.0.0b5 in ./.venv/lib/python3.11/site-packages (from azure-cli->-r ./requirements.txt (line 8)) (1.0.0b5)\n",
            "Requirement already satisfied: azure-mgmt-sql==4.0.0b21 in ./.venv/lib/python3.11/site-packages (from azure-cli->-r ./requirements.txt (line 8)) (4.0.0b21)\n",
            "Requirement already satisfied: azure-mgmt-storage==23.0.0 in ./.venv/lib/python3.11/site-packages (from azure-cli->-r ./requirements.txt (line 8)) (23.0.0)\n",
            "Requirement already satisfied: azure-mgmt-synapse==2.1.0b5 in ./.venv/lib/python3.11/site-packages (from azure-cli->-r ./requirements.txt (line 8)) (2.1.0b5)\n",
            "Requirement already satisfied: azure-mgmt-trafficmanager~=1.0.0 in ./.venv/lib/python3.11/site-packages (from azure-cli->-r ./requirements.txt (line 8)) (1.0.0)\n",
            "Requirement already satisfied: azure-mgmt-web==7.3.1 in ./.venv/lib/python3.11/site-packages (from azure-cli->-r ./requirements.txt (line 8)) (7.3.1)\n",
            "Requirement already satisfied: azure-monitor-query==1.2.0 in ./.venv/lib/python3.11/site-packages (from azure-cli->-r ./requirements.txt (line 8)) (1.2.0)\n",
            "Requirement already satisfied: azure-multiapi-storage==1.4.0 in ./.venv/lib/python3.11/site-packages (from azure-cli->-r ./requirements.txt (line 8)) (1.4.0)\n",
            "Requirement already satisfied: azure-storage-common~=1.4 in ./.venv/lib/python3.11/site-packages (from azure-cli->-r ./requirements.txt (line 8)) (1.4.2)\n",
            "Requirement already satisfied: azure-synapse-accesscontrol~=0.5.0 in ./.venv/lib/python3.11/site-packages (from azure-cli->-r ./requirements.txt (line 8)) (0.5.0)\n",
            "Requirement already satisfied: azure-synapse-artifacts~=0.20.0 in ./.venv/lib/python3.11/site-packages (from azure-cli->-r ./requirements.txt (line 8)) (0.20.0)\n",
            "Requirement already satisfied: azure-synapse-managedprivateendpoints~=0.4.0 in ./.venv/lib/python3.11/site-packages (from azure-cli->-r ./requirements.txt (line 8)) (0.4.0)\n",
            "Requirement already satisfied: azure-synapse-spark~=0.7.0 in ./.venv/lib/python3.11/site-packages (from azure-cli->-r ./requirements.txt (line 8)) (0.7.0)\n",
            "Requirement already satisfied: chardet~=5.2.0 in ./.venv/lib/python3.11/site-packages (from azure-cli->-r ./requirements.txt (line 8)) (5.2.0)\n",
            "Requirement already satisfied: colorama~=0.4.4 in ./.venv/lib/python3.11/site-packages (from azure-cli->-r ./requirements.txt (line 8)) (0.4.6)\n",
            "Requirement already satisfied: fabric~=3.2.2 in ./.venv/lib/python3.11/site-packages (from azure-cli->-r ./requirements.txt (line 8)) (3.2.2)\n",
            "Requirement already satisfied: javaproperties~=0.5.1 in ./.venv/lib/python3.11/site-packages (from azure-cli->-r ./requirements.txt (line 8)) (0.5.2)\n",
            "Requirement already satisfied: jsondiff~=2.0.0 in ./.venv/lib/python3.11/site-packages (from azure-cli->-r ./requirements.txt (line 8)) (2.0.0)\n",
            "Requirement already satisfied: packaging>=20.9 in ./.venv/lib/python3.11/site-packages (from azure-cli->-r ./requirements.txt (line 8)) (25.0)\n",
            "Requirement already satisfied: paramiko<4.0.0,>=2.0.8 in ./.venv/lib/python3.11/site-packages (from azure-cli->-r ./requirements.txt (line 8)) (3.5.1)\n",
            "Requirement already satisfied: pycomposefile>=0.0.32 in ./.venv/lib/python3.11/site-packages (from azure-cli->-r ./requirements.txt (line 8)) (0.0.32)\n",
            "Requirement already satisfied: PyGithub~=1.38 in ./.venv/lib/python3.11/site-packages (from azure-cli->-r ./requirements.txt (line 8)) (1.59.1)\n",
            "Requirement already satisfied: PyNaCl~=1.5.0 in ./.venv/lib/python3.11/site-packages (from azure-cli->-r ./requirements.txt (line 8)) (1.5.0)\n",
            "Requirement already satisfied: scp~=0.13.2 in ./.venv/lib/python3.11/site-packages (from azure-cli->-r ./requirements.txt (line 8)) (0.13.6)\n",
            "Requirement already satisfied: semver~=3.0 in ./.venv/lib/python3.11/site-packages (from azure-cli->-r ./requirements.txt (line 8)) (3.0.4)\n",
            "Requirement already satisfied: setuptools in ./.venv/lib/python3.11/site-packages (from azure-cli->-r ./requirements.txt (line 8)) (65.5.0)\n",
            "Requirement already satisfied: six>=1.10.0 in ./.venv/lib/python3.11/site-packages (from azure-cli->-r ./requirements.txt (line 8)) (1.17.0)\n",
            "Requirement already satisfied: sshtunnel~=0.1.4 in ./.venv/lib/python3.11/site-packages (from azure-cli->-r ./requirements.txt (line 8)) (0.1.5)\n",
            "Requirement already satisfied: urllib3 in ./.venv/lib/python3.11/site-packages (from azure-cli->-r ./requirements.txt (line 8)) (2.4.0)\n",
            "Requirement already satisfied: websocket-client~=1.3.1 in ./.venv/lib/python3.11/site-packages (from azure-cli->-r ./requirements.txt (line 8)) (1.3.3)\n",
            "Requirement already satisfied: xmltodict~=0.12 in ./.venv/lib/python3.11/site-packages (from azure-cli->-r ./requirements.txt (line 8)) (0.14.2)\n",
            "Requirement already satisfied: argcomplete~=3.5.2 in ./.venv/lib/python3.11/site-packages (from azure-cli-core==2.74.0->azure-cli->-r ./requirements.txt (line 8)) (3.5.3)\n",
            "Requirement already satisfied: azure-cli-telemetry==1.1.0.* in ./.venv/lib/python3.11/site-packages (from azure-cli-core==2.74.0->azure-cli->-r ./requirements.txt (line 8)) (1.1.0)\n",
            "Requirement already satisfied: azure-mgmt-core<2,>=1.2.0 in ./.venv/lib/python3.11/site-packages (from azure-cli-core==2.74.0->azure-cli->-r ./requirements.txt (line 8)) (1.5.0)\n",
            "Requirement already satisfied: humanfriendly~=10.0 in ./.venv/lib/python3.11/site-packages (from azure-cli-core==2.74.0->azure-cli->-r ./requirements.txt (line 8)) (10.0)\n",
            "Requirement already satisfied: jmespath in ./.venv/lib/python3.11/site-packages (from azure-cli-core==2.74.0->azure-cli->-r ./requirements.txt (line 8)) (1.0.1)\n",
            "Requirement already satisfied: knack~=0.11.0 in ./.venv/lib/python3.11/site-packages (from azure-cli-core==2.74.0->azure-cli->-r ./requirements.txt (line 8)) (0.11.0)\n",
            "Requirement already satisfied: microsoft-security-utilities-secret-masker~=1.0.0b4 in ./.venv/lib/python3.11/site-packages (from azure-cli-core==2.74.0->azure-cli->-r ./requirements.txt (line 8)) (1.0.0b4)\n",
            "Requirement already satisfied: msrestazure~=0.6.4 in ./.venv/lib/python3.11/site-packages (from azure-cli-core==2.74.0->azure-cli->-r ./requirements.txt (line 8)) (0.6.4.post1)\n",
            "Requirement already satisfied: pkginfo>=1.5.0.1 in ./.venv/lib/python3.11/site-packages (from azure-cli-core==2.74.0->azure-cli->-r ./requirements.txt (line 8)) (1.12.1.2)\n",
            "Requirement already satisfied: psutil>=5.9 in ./.venv/lib/python3.11/site-packages (from azure-cli-core==2.74.0->azure-cli->-r ./requirements.txt (line 8)) (7.0.0)\n",
            "Requirement already satisfied: PyJWT>=2.1.0 in ./.venv/lib/python3.11/site-packages (from azure-cli-core==2.74.0->azure-cli->-r ./requirements.txt (line 8)) (2.10.1)\n",
            "Requirement already satisfied: pyopenssl>=17.1.0 in ./.venv/lib/python3.11/site-packages (from azure-cli-core==2.74.0->azure-cli->-r ./requirements.txt (line 8)) (25.1.0)\n",
            "Requirement already satisfied: py-deviceid in ./.venv/lib/python3.11/site-packages (from azure-cli-core==2.74.0->azure-cli->-r ./requirements.txt (line 8)) (0.1.1)\n",
            "Requirement already satisfied: requests[socks] in ./.venv/lib/python3.11/site-packages (from azure-cli-core==2.74.0->azure-cli->-r ./requirements.txt (line 8)) (2.32.4)\n",
            "Requirement already satisfied: msrest>=0.6.21 in ./.venv/lib/python3.11/site-packages (from azure-data-tables==12.4.0->azure-cli->-r ./requirements.txt (line 8)) (0.7.1)\n",
            "Requirement already satisfied: azure-common~=1.1 in ./.venv/lib/python3.11/site-packages (from azure-keyvault-administration==4.4.0b2->azure-cli->-r ./requirements.txt (line 8)) (1.1.28)\n",
            "Requirement already satisfied: portalocker<3,>=1.4 in ./.venv/lib/python3.11/site-packages (from msal-extensions>=1.2.0->azure-identity->-r ./requirements.txt (line 2)) (2.10.1)\n",
            "Requirement already satisfied: pymsalruntime<0.18,>=0.17 in ./.venv/lib/python3.11/site-packages (from msal[broker]==1.32.3->azure-cli-core==2.74.0->azure-cli->-r ./requirements.txt (line 8)) (0.17.1)\n",
            "Requirement already satisfied: applicationinsights<0.12,>=0.11.1 in ./.venv/lib/python3.11/site-packages (from azure-cli-telemetry==1.1.0.*->azure-cli-core==2.74.0->azure-cli->-r ./requirements.txt (line 8)) (0.11.10)\n",
            "Requirement already satisfied: cffi in ./.venv/lib/python3.11/site-packages (from azure-datalake-store~=1.0.0a0->azure-cli->-r ./requirements.txt (line 8)) (1.17.1)\n",
            "Requirement already satisfied: invoke>=2.0 in ./.venv/lib/python3.11/site-packages (from fabric~=3.2.2->azure-cli->-r ./requirements.txt (line 8)) (2.2.0)\n",
            "Requirement already satisfied: decorator>=5 in ./.venv/lib/python3.11/site-packages (from fabric~=3.2.2->azure-cli->-r ./requirements.txt (line 8)) (5.2.1)\n",
            "Requirement already satisfied: deprecated>=1.2 in ./.venv/lib/python3.11/site-packages (from fabric~=3.2.2->azure-cli->-r ./requirements.txt (line 8)) (1.2.18)\n",
            "Requirement already satisfied: pygments in ./.venv/lib/python3.11/site-packages (from knack~=0.11.0->azure-cli-core==2.74.0->azure-cli->-r ./requirements.txt (line 8)) (2.19.1)\n",
            "Requirement already satisfied: pyyaml in ./.venv/lib/python3.11/site-packages (from knack~=0.11.0->azure-cli-core==2.74.0->azure-cli->-r ./requirements.txt (line 8)) (6.0.2)\n",
            "Requirement already satisfied: adal<2.0.0,>=0.6.0 in ./.venv/lib/python3.11/site-packages (from msrestazure~=0.6.4->azure-cli-core==2.74.0->azure-cli->-r ./requirements.txt (line 8)) (1.2.7)\n",
            "Requirement already satisfied: requests-oauthlib>=0.5.0 in ./.venv/lib/python3.11/site-packages (from msrest>=0.6.21->azure-data-tables==12.4.0->azure-cli->-r ./requirements.txt (line 8)) (2.0.0)\n",
            "Requirement already satisfied: bcrypt>=3.2 in ./.venv/lib/python3.11/site-packages (from paramiko<4.0.0,>=2.0.8->azure-cli->-r ./requirements.txt (line 8)) (4.3.0)\n",
            "Requirement already satisfied: charset_normalizer<4,>=2 in ./.venv/lib/python3.11/site-packages (from requests[socks]->azure-cli-core==2.74.0->azure-cli->-r ./requirements.txt (line 8)) (3.4.2)\n",
            "Requirement already satisfied: werkzeug~=3.1.3 in ./.venv/lib/python3.11/site-packages (from azure-functions->-r ./requirements.txt (line 9)) (3.1.3)\n",
            "Requirement already satisfied: MarkupSafe>=2.1.1 in ./.venv/lib/python3.11/site-packages (from werkzeug~=3.1.3->azure-functions->-r ./requirements.txt (line 9)) (3.0.2)\n",
            "Requirement already satisfied: pycparser in ./.venv/lib/python3.11/site-packages (from cffi->azure-datalake-store~=1.0.0a0->azure-cli->-r ./requirements.txt (line 8)) (2.22)\n",
            "Requirement already satisfied: wrapt<2,>=1.10 in ./.venv/lib/python3.11/site-packages (from deprecated>=1.2->fabric~=3.2.2->azure-cli->-r ./requirements.txt (line 8)) (1.17.2)\n",
            "Requirement already satisfied: oauthlib>=3.0.0 in ./.venv/lib/python3.11/site-packages (from requests-oauthlib>=0.5.0->msrest>=0.6.21->azure-data-tables==12.4.0->azure-cli->-r ./requirements.txt (line 8)) (3.3.0)\n",
            "Requirement already satisfied: PySocks!=1.5.7,>=1.5.6 in ./.venv/lib/python3.11/site-packages (from requests[socks]->azure-cli-core==2.74.0->azure-cli->-r ./requirements.txt (line 8)) (1.7.1)\n",
            "Note: you may need to restart the kernel to use updated packages.\n",
            "\n",
            "Packages installed successfully.\n"
          ]
        }
      ],
      "source": [
        "# Install the packages\n",
        "%pip install -r ./requirements.txt --upgrade\n",
        "print(\"\\nPackages installed successfully.\")"
      ]
    },
    {
      "cell_type": "markdown",
      "metadata": {},
      "source": [
        "#### Step 2: Setting up the environment\n",
        "Before we begin, we need to load the necessary environment variables from a `.env` file. These variables include sensitive information such as API keys and endpoint URLs, which are crucial for running the code successfully.\n",
        "\n",
        "Here’s what you need to do:\n",
        "- Ensure your `.env` file is properly configured in the `.venv/.env` format. We have provided an template `.env` file, `.env.example` for your reference.\n",
        "- Verify that all required secrets are included in the file before running the code.\n",
        "\n",
        "\n",
        "The `.env` file must contain the following secrets:\n",
        "- PROJECT_CONNECTION_STRING: URL to connect to the Azure AI Agent Service Project to access project resources.\n",
        "- AZURE_OPENAI_DEPLOYMENT: The name of the Azure AI Agent Service model deployment.\n",
        "\n",
        "Now, let’s load these variables and get started!\n",
        "\n",
        "<code style=\"background:yellow;color:black\">Note: Make sure to keep your `.env` file secure and avoid sharing it publicly. </code>\n",
        "\n",
        "*For more information about leveraging Python Virtual Environments can be found [here](https://docs.python.org/3/library/venv.html).*"
      ]
    },
    {
      "cell_type": "code",
      "execution_count": 252,
      "metadata": {},
      "outputs": [],
      "source": [
        "import json\n",
        "\n",
        "import pandas as pd\n",
        "\n",
        "def get_information_about_certification_provider(certification_provider: str) -> json:\n",
        "    \"\"\"\n",
        "    Fetches information about a certifications available from the certification provider from an Excel file.\n",
        "\n",
        "    This function reads an Excel file containing certification data, groups the data by \n",
        "    the \"OLD Certifier or Issuer\" column, and maps each certifier to a list of \n",
        "    corresponding \"Duplicate Certification Name\" values. It then retrieves the \n",
        "    certifications for the specified certification provider.\n",
        "\n",
        "    If the specified certification provider is not found in the data, the function \n",
        "    returns a JSON object with an error message.\n",
        "\n",
        "    :param certification_provider: The name of the certification provider to look up.\n",
        "    :type certification_provider: str\n",
        "\n",
        "    :return: A JSON string containing the certifications for the specified provider, \n",
        "             or an error message if the provider is not found.\n",
        "    :rtype: str\n",
        "\n",
        "    Example:\n",
        "    --------\n",
        "    Suppose the Excel file contains the following data:\n",
        "\n",
        "    | OLD Certifier or Issuer | Duplicate Certification Name |\n",
        "    |--------------------------|-----------------------------|\n",
        "    | Certifier A             | Certification 1            |\n",
        "    | Certifier A             | Certification 2            |\n",
        "    | Certifier B             | Certification 3            |\n",
        "\n",
        "    Calling the function with \"Certifier A\" will return:\n",
        "    {\n",
        "        \"certifications\": [\"Certification 1\", \"Certification 2\"]\n",
        "    }\n",
        "\n",
        "    Calling the function with \"Certifier C\" will return:\n",
        "    {\n",
        "        \"error\": \"Certification provider not found.\"\n",
        "    }\n",
        "    \"\"\"\n",
        "\n",
        "    file_path = \"data/workday_data.xlsx\"\n",
        "    df = pd.read_excel(file_path)\n",
        "    # Group by \"OLD Certifier or Issuer\" and aggregate \"Duplicate Certification Name\"\n",
        "    mapping = (\n",
        "        df.groupby(\"OLD Certifier or Issuer\")[\"Duplicate Certification Name\"]\n",
        "        .apply(list)\n",
        "        .to_dict()\n",
        "    )\n",
        "    # print(f\"Mapping for {mapping}\")\n",
        "\n",
        "    # print(mapping[certification_provider])\n",
        "    # If the certification provider is not found, return an empty JSON object\n",
        "    if certification_provider not in mapping:\n",
        "        return json.dumps({\"error\": \"Certification provider not found.\"})\n",
        "    else:\n",
        "        # Return the certifications as a JSON string\n",
        "        return json.dumps({\"certifications\": mapping[certification_provider]})\n",
        "\n",
        "\n",
        "# def fetch_weather(location: str) -> str:\n",
        "#     \"\"\"\n",
        "#     Fetches the weather information for the specified location.\n",
        "\n",
        "#     :param location: The location to fetch weather for.\n",
        "#     :return: Weather information as a JSON string.\n",
        "#     \"\"\"\n",
        "#     # Mock weather data for demonstration purposes\n",
        "#     mock_weather_data = {\"New York\": \"Sunny, 25°C\", \"London\": \"Cloudy, 18°C\", \"Tokyo\": \"Rainy, 22°C\"}\n",
        "#     weather = mock_weather_data.get(location, \"Weather data not available for this location.\")\n",
        "#     return json.dumps({\"weather\": weather})\n",
        "\n",
        "\n",
        "#print(get_information_about_certification_provider(\"365 Data Science\"))\n",
        "# Define user functions\n",
        "user_functions = {get_information_about_certification_provider}"
      ]
    },
    {
      "cell_type": "code",
      "execution_count": null,
      "metadata": {},
      "outputs": [],
      "source": []
    },
    {
      "cell_type": "code",
      "execution_count": 253,
      "metadata": {},
      "outputs": [
        {
          "name": "stdout",
          "output_type": "stream",
          "text": [
            "https://azure-ai-foundry-pg.services.ai.azure.com/api/projects/foundry_demo\n",
            "Environment variables loaded successfully.\n"
          ]
        }
      ],
      "source": [
        "import os\n",
        "from dotenv import load_dotenv\n",
        "\n",
        "# Load environment variables from .env file\n",
        "load_dotenv()\n",
        "\n",
        "# Retrieve the secrets\n",
        "__PROJECT_CONNECTION_STRING = os.getenv(\"PROJECT_CONNECTION_STRING\")\n",
        "__AZURE_OPENAI_DEPLOYMENT = os.getenv(\"AZURE_OPENAI_DEPLOYMENT\")\n",
        "print(__PROJECT_CONNECTION_STRING)\n",
        "# Verify environment variables'AIProjectClient\n",
        "if not all([__PROJECT_CONNECTION_STRING, __AZURE_OPENAI_DEPLOYMENT]):\n",
        "    raise EnvironmentError(\"One or more environment variables are missing. Please check the .env file.\")\n",
        "else:\n",
        "    print(\"Environment variables loaded successfully.\")"
      ]
    },
    {
      "cell_type": "markdown",
      "metadata": {},
      "source": [
        "## **Azure AI Agent Service Agent Setup**"
      ]
    },
    {
      "cell_type": "markdown",
      "metadata": {},
      "source": [
        "### Step 1: Initializing the Azure AI Agent Service Project Client\n",
        "First, we will initialize the Azure AI Agent Service Project client using Azure’s `DefaultAzureCredential` for authentication, allowing seamless integration with Azure resources. You will need to log into Azure using the Azure CLI."
      ]
    },
    {
      "cell_type": "code",
      "execution_count": 254,
      "metadata": {},
      "outputs": [
        {
          "name": "stdout",
          "output_type": "stream",
          "text": [
            "Azure AI Agent Service client created successfully.\n"
          ]
        }
      ],
      "source": [
        "from azure.ai.projects import AIProjectClient\n",
        "from azure.identity import DefaultAzureCredential\n",
        "\n",
        "try:\n",
        "    # Initialize the Azure AI Project client\n",
        "    project_client = AIProjectClient(\n",
        "        credential=DefaultAzureCredential(),\n",
        "        endpoint=__PROJECT_CONNECTION_STRING,\n",
        "    )\n",
        "\n",
        "    print(\"Azure AI Agent Service client created successfully.\")\n",
        "\n",
        "except Exception as e:\n",
        "    print(f\"Error creating the project client: {e}\")"
      ]
    },
    {
      "cell_type": "markdown",
      "metadata": {},
      "source": [
        "### Step 2: Initializing the Azure Agent Client\n",
        "Next, we’ll initialize the Azure Agent Runtime client. The Azure Agent Client serves as the interface to interact with Azure AI Agent Service services. "
      ]
    },
    {
      "cell_type": "code",
      "execution_count": 255,
      "metadata": {},
      "outputs": [
        {
          "name": "stdout",
          "output_type": "stream",
          "text": [
            "Agent Client created successfully.\n"
          ]
        }
      ],
      "source": [
        "agent_client = project_client.agents\n",
        "\n",
        "print(\"Agent Client created successfully.\")"
      ]
    },
    {
      "cell_type": "markdown",
      "metadata": {},
      "source": [
        "## **Data Processing**"
      ]
    },
    {
      "cell_type": "markdown",
      "metadata": {},
      "source": [
        "### Step 1: Convert Excel files to Markdown\n",
        "Azure AI Agent Service Agents require data in specific file formats for processing. Since Excel files aren’t natively supported for File Search, our files need to be converted to Markdown tables in separate Markdown files. This step involves:\n",
        "\n",
        "- Reading Excel files using pandas.\n",
        "- Writing the data into Markdown format for compatibility."
      ]
    },
    {
      "cell_type": "code",
      "execution_count": 256,
      "metadata": {},
      "outputs": [
        {
          "name": "stdout",
          "output_type": "stream",
          "text": [
            "Workbook 'data/workday_data.xlsx' successfully loaded.\n",
            "Markdown file 'data/uploads/workday_data.md' successfully written.\n"
          ]
        }
      ],
      "source": [
        "import pandas as pd\n",
        "from pathlib import Path\n",
        "from azure.ai.agents.models import (\n",
        "    FilePurpose,\n",
        ")\n",
        "# Define paths\n",
        "output_dir = \"uploads\"\n",
        "data_dir_path = \"data\"\n",
        "certification_data_files = [\"workday_data.xlsx\"]\n",
        "output_dir_path = Path(data_dir_path) / output_dir\n",
        "\n",
        "# Ensure output directory exists\n",
        "if not Path(output_dir_path).exists():\n",
        "    Path(output_dir_path).mkdir(parents=True, exist_ok=True)\n",
        "\n",
        "# Prefix the data directory path to each file\n",
        "certification_data_files = [Path(data_dir_path) / curr_file for curr_file in certification_data_files]\n",
        "\n",
        "# Store the uploaded file IDs to be used later when enabling File Search\n",
        "markdown_file_paths = []\n",
        "\n",
        "for curr_file in certification_data_files:\n",
        "    try:\n",
        "        # Check if the file exists\n",
        "        if not Path(curr_file).exists():\n",
        "            raise FileNotFoundError(f\"The file '{curr_file}' does not exist.\")\n",
        "\n",
        "        # Load the Excel File into a DataFrame\n",
        "        df = pd.read_excel(curr_file)\n",
        "        print(f\"Workbook '{curr_file}' successfully loaded.\")\n",
        "\n",
        "        # Get the base name of the Excel file without the extension\n",
        "        base_name = Path(curr_file).stem\n",
        "\n",
        "        # Convert the DataFrame to a Markdown table\n",
        "        md_tbl_str = df.to_markdown(index=False, tablefmt=\"pipe\")\n",
        "\n",
        "        # Define the output file name\n",
        "        output_file = Path(output_dir_path) / f\"{base_name}.md\"\n",
        "        markdown_file_paths.append(output_file)\n",
        "\n",
        "        # Write the Markdown table to the file\n",
        "        with Path(output_file).open(\"w\") as f:\n",
        "            f.write(md_tbl_str)\n",
        "\n",
        "        print(f\"Markdown file '{output_file}' successfully written.\")\n",
        "\n",
        "    except FileNotFoundError as e:\n",
        "        print(f\"Error: {e}\")\n",
        "\n",
        "    except Exception as e:\n",
        "        print(f\"An error occurred while processing the Excel file '{curr_file}': {e}\")"
      ]
    },
    {
      "cell_type": "markdown",
      "metadata": {},
      "source": [
        "### Step 2: Upload Markdown file(s) to OpenAI\n",
        "Next, we'll upload the markdown files from the local directory, `data\\uploads`, to the Azure AI Agent Service Project Deployment. Before uploading, any markdown files in the project with the same name are removed to ensure the latest versions are used and to prevent duplicates. This step efficiently manages cleanup and file upload."
      ]
    },
    {
      "cell_type": "code",
      "execution_count": 257,
      "metadata": {},
      "outputs": [
        {
          "name": "stdout",
          "output_type": "stream",
          "text": [
            "Processing File 'data/uploads/workday_data.md'...\n",
            "Uploaded file, file ID: assistant-KZ1rauCdWbYr5GCeH84vbu\n",
            "File IDs: ['assistant-KZ1rauCdWbYr5GCeH84vbu']\n"
          ]
        }
      ],
      "source": [
        "uploaded_file_ids = []\n",
        "\n",
        "try:\n",
        "    for local_file in os.listdir(output_dir_path):\n",
        "        # Define the local file path\n",
        "        local_file_path = Path(output_dir_path) / local_file\n",
        "\n",
        "        # Check if the file is a Markdown file\n",
        "        if not local_file.endswith(\".md\"):\n",
        "            continue\n",
        "        else:\n",
        "            print(f\"Processing File '{local_file_path}'...\")\n",
        "\n",
        "            # Check if the file already exists in the cloud, and delete it if it does\n",
        "            # for cloud_file in agent_client.list_files().data:\n",
        "            #     if cloud_file.filename == local_file:\n",
        "            #         agent_client.delete_file(cloud_file.id)\n",
        "            #         print(f\"Deleted existing cloud file: '{cloud_file.filename}'\")\n",
        "\n",
        "            # Use the upload and poll SDK helper to upload the local file, add them to the vector store,\n",
        "            # and poll the status of the file batch for completion.\n",
        "            file = project_client.agents.files.upload_and_poll(\n",
        "                file_path=local_file_path,\n",
        "                purpose=FilePurpose.AGENTS\n",
        "            )\n",
        "            uploaded_file_ids.append(file.id)\n",
        "\n",
        "            # TODO: Check if there is a status to look\n",
        "            print(f\"Uploaded file, file ID: {file.id}\")\n",
        "\n",
        "    print(f\"File IDs: {uploaded_file_ids}\")\n",
        "\n",
        "except FileNotFoundError:\n",
        "    print(f\"Error: The file '{curr_file}' was not found.\")\n",
        "    raise\n",
        "\n",
        "except Exception as e:\n",
        "    print(f\"An error occurred while processing the Excel file: {e}\")\n",
        "    raise"
      ]
    },
    {
      "cell_type": "markdown",
      "metadata": {},
      "source": [
        "### Step 3: Create Vector Store\n",
        "The Vector Store is used to store embeddings of uploaded files, enabling the File Search tool to efficiently locate relevant content."
      ]
    },
    {
      "cell_type": "code",
      "execution_count": 258,
      "metadata": {},
      "outputs": [
        {
          "name": "stdout",
          "output_type": "stream",
          "text": [
            "Vector store 'Certification Data Vector Store (vs_XMAhOlBssxoeMTwyhiLz6q34)' created successfully.\n"
          ]
        }
      ],
      "source": [
        "# Create a vector store called \"Financial Statements\"\n",
        "\n",
        "vector_store = agent_client.vector_stores.create_and_poll(\n",
        "    file_ids=uploaded_file_ids,\n",
        "    name=\"Certification Data Vector Store\",)\n",
        "print(f\"Vector store '{vector_store.name} ({vector_store.id})' created successfully.\")"
      ]
    },
    {
      "cell_type": "markdown",
      "metadata": {},
      "source": [
        "### Step 4: Create File Search Tool\n",
        "The File Search tool enables the AI agent to query the uploaded files. It uses the embeddings stored in the Vector Store to locate and retrieve relevant content."
      ]
    },
    {
      "cell_type": "code",
      "execution_count": 259,
      "metadata": {},
      "outputs": [
        {
          "name": "stdout",
          "output_type": "stream",
          "text": [
            "File search tool created successfully for Vector Store Certification Data Vector Store (vs_XMAhOlBssxoeMTwyhiLz6q34).\n"
          ]
        }
      ],
      "source": [
        "from azure.ai.agents.models import FileSearchTool\n",
        "\n",
        "# Create file search tool with resources followed by creating agent\n",
        "file_search = FileSearchTool(vector_store_ids=[vector_store.id])\n",
        "print(f\"File search tool created successfully for Vector Store {vector_store.name} ({vector_store.id}).\")"
      ]
    },
    {
      "cell_type": "markdown",
      "metadata": {},
      "source": [
        "### Step 5: Bing Grounding\n",
        "The File Search tool enables the AI agent to query the uploaded files. It uses the embeddings stored in the Vector Store to locate and retrieve relevant content."
      ]
    },
    {
      "cell_type": "code",
      "execution_count": 260,
      "metadata": {},
      "outputs": [
        {
          "data": {
            "text/plain": [
              "'/subscriptions/ae6cbacb-2eac-42cc-978e-516b8ef7628d/resourceGroups/rg-pragati-gupta-1/providers/Microsoft.CognitiveServices/accounts/azure-ai-foundry-pg/projects/foundry_demo/connections/binggrounding'"
            ]
          },
          "execution_count": 260,
          "metadata": {},
          "output_type": "execute_result"
        }
      ],
      "source": [
        "project_client.connections.get(name=\"binggrounding\").id"
      ]
    },
    {
      "cell_type": "code",
      "execution_count": 261,
      "metadata": {},
      "outputs": [
        {
          "name": "stdout",
          "output_type": "stream",
          "text": [
            "Bing Connection ID: /subscriptions/ae6cbacb-2eac-42cc-978e-516b8ef7628d/resourceGroups/rg-pragati-gupta-1/providers/Microsoft.CognitiveServices/accounts/azure-ai-foundry-pg/projects/foundry_demo/connections/binggrounding\n"
          ]
        }
      ],
      "source": [
        "from azure.ai.agents.models import BingGroundingTool\n",
        "bing_conn_name = os.getenv(\"BING_CONNECTION_NAME\")\n",
        "bing_connection = project_client.connections.get(name=bing_conn_name)\n",
        "# Get the connection ID from the Bing connection\n",
        "if not bing_connection:\n",
        "    raise ValueError(f\"Bing connection '{bing_conn_name}' not found. Please check the connection name.\")\n",
        "conn_id = bing_connection.id\n",
        "print(f\"Bing Connection ID: {conn_id}\")\n",
        "# Initialize the Bing Grounding tool\n",
        "bing_tool = BingGroundingTool(connection_id=conn_id)\n"
      ]
    },
    {
      "cell_type": "markdown",
      "metadata": {},
      "source": [
        "## **Running the Azure AI Agent Service Agent**"
      ]
    },
    {
      "cell_type": "markdown",
      "metadata": {},
      "source": [
        "### Step 1: Create the Agent"
      ]
    },
    {
      "cell_type": "code",
      "execution_count": null,
      "metadata": {},
      "outputs": [
        {
          "name": "stdout",
          "output_type": "stream",
          "text": [
            "Agent created successfully.(asst_vW3tZb9cctcGrMbcXBjjMY2f)\n"
          ]
        }
      ],
      "source": [
        "from azure.ai.agents.models import FunctionTool\n",
        "try:\n",
        "    \n",
        "    functions = FunctionTool(user_functions)\n",
        "    project_client.agents.enable_auto_function_calls(functions)\n",
        "\n",
        "    agent = project_client.agents.create_agent(\n",
        "        model=__AZURE_OPENAI_DEPLOYMENT,\n",
        "        name=\"Certification Manager Agent\",\n",
        "        instructions=f\"\"\"\n",
        "You are a smart assistant with access to an uploaded Excel file containing certification data. The file has the following columns:\n",
        "\n",
        "- NEW Certifier or Issuer  \n",
        "- OLD Certifier or Issuer  \n",
        "- NEW Certification Name  \n",
        "- Duplicate Certification Name  \n",
        "- GUIDELINES\n",
        "\n",
        "You also have access to a function:  \n",
        "`get_information_about_certification_provider(provider_name)`  \n",
        "It returns a JSON-formatted string in the form:  \n",
        "    {{\"certifications\": [\"<certification_name_1>\", \"<certification_name_2>\", ...]}}\n",
        "\n",
        "### Your responsibilities:\n",
        "\n",
        "\n",
        "1. **Handle User Queries**:\n",
        "   - For general questions about the dataset (e.g., list of certifiers, all certifications, guidelines), use the Excel file directly.\n",
        "   - If the user asks about a specific provider `<provider_name>`:\n",
        "     a. Search NEW Certifier or Issuer columns for a match.\n",
        "     b. If no match is found, respond:\n",
        "        `\"The provider <provider_name> was not found in the data.\"`  \n",
        "        Then stop further actions.\n",
        "     c. If found, call `get_information_about_certification_provider(<provider_name>)` to get certifications associated with that provider.\n",
        "\n",
        "2. **External Data Comparison**:\n",
        "   - Make a Bing search with the query:  \n",
        "     `\"List of all certifications provided by <provider_name>\"`\n",
        "   - Expect a plain **list of certification names** as the result.\n",
        "  \n",
        "\n",
        "3. **Compare and Report**:\n",
        "   - Display the following:\n",
        "     - Certifications from the internal function.\n",
        "     - Certifications from the Bing call.\n",
        "\n",
        "\n",
        "Always keep responses accurate, concise, and transparent. Never assume or fabricate information not present in either source.\n",
        "\n",
        "# Example:\n",
        "  # If the user asks: \"What certifications does Microsoft offer?\"\n",
        "  # 1. Search for \"Microsoft\" in the NEW Certifier or Issuer column.\n",
        "  # 2. If found, call: get_information_about_certification_provider(\"Microsoft\")\n",
        "  # 3. Make a Bing search: \"List of all certifications provided by Microsoft\"\n",
        "  # 4. Compare the internal and Bing results, then display both lists.\n",
        "\"\"\",\n",
        "\n",
        "        tools=file_search.definitions + functions.definitions + bing_tool.definitions,\n",
        "        tool_resources=file_search.resources,\n",
        "    )\n",
        "    print(f\"Agent created successfully.({agent.id})\")\n",
        "except Exception as e:\n",
        "    print(\"Error creating Agent:\", e)"
      ]
    },
    {
      "cell_type": "markdown",
      "metadata": {},
      "source": [
        "### Step 2: Start a New Converstaion\n",
        "Conversation threads in Azure AI Agent Service enable context-aware interactions, storing both user prompts and agent responses. This step creates a new thread for the Sales Analyst Agent to handle queries."
      ]
    },
    {
      "cell_type": "code",
      "execution_count": 294,
      "metadata": {},
      "outputs": [
        {
          "name": "stdout",
          "output_type": "stream",
          "text": [
            "Thread created successfully (thread_RIN9LKv5figMy4bLq2gdfQcn)\n"
          ]
        }
      ],
      "source": [
        "# Create a conversation thread\n",
        "try:\n",
        "    thread = agent_client.threads.create()\n",
        "    print(f\"Thread created successfully ({thread.id})\")\n",
        "except Exception as e:\n",
        "    print(\"Error creating thread:\", e)"
      ]
    },
    {
      "cell_type": "markdown",
      "metadata": {},
      "source": [
        "### Step 3: Query the AI Agent\n",
        "Next, we’ll add a user message to the thread. The AI agent responds to a user-defined prompt, such as calculating revenue by region. It processes the prompt and retrieves the necessary data to deliver insights."
      ]
    },
    {
      "cell_type": "code",
      "execution_count": 295,
      "metadata": {},
      "outputs": [
        {
          "name": "stdout",
          "output_type": "stream",
          "text": [
            "Successfully added User prompt to the thread. (Message ID msg_ndValgjW1CvGVv2FEBawweej)\n"
          ]
        }
      ],
      "source": [
        "# Define the user question\n",
        "prompt_content = \"Which certification provided by Amazon\"\n",
        "\n",
        "# Add the question to the thread\n",
        "try:\n",
        "    message = agent_client.messages.create(\n",
        "        thread_id=thread.id,\n",
        "        role=\"user\",\n",
        "        content=prompt_content,\n",
        "    )\n",
        "    print(f\"Successfully added User prompt to the thread. (Message ID {message.id})\")\n",
        "except Exception as e:\n",
        "    print(\"Error adding user question:\", e)"
      ]
    },
    {
      "cell_type": "markdown",
      "metadata": {},
      "source": [
        "### Step 4: Run the AI Agent\n",
        "In this step, we instruct the AI agent to process the user’s query within the created thread. The agent analyzes the context, executes the required tools (e.g., File Search), and generates a response. The `create_and_proces_run` function triggers the agent to process the user's prompt and produce an agent output."
      ]
    },
    {
      "cell_type": "code",
      "execution_count": 296,
      "metadata": {},
      "outputs": [
        {
          "name": "stdout",
          "output_type": "stream",
          "text": [
            "Run started: run_ZKizdT50oejGF8V6UrifCtCm\n"
          ]
        }
      ],
      "source": [
        "# Initiate the Agent's response\n",
        "try:\n",
        "    run = agent_client.runs.create_and_process(\n",
        "        thread_id=thread.id,\n",
        "        agent_id=agent.id,\n",
        "    )\n",
        "    print(\"Run started:\", run.id)\n",
        "except Exception as e:\n",
        "    print(\"Error starting run:\", e)"
      ]
    },
    {
      "cell_type": "markdown",
      "metadata": {},
      "source": [
        "If the agent run fails, we will identify the issue. A common cause is exceeding the rate limit, requiring additional Azure quotas."
      ]
    },
    {
      "cell_type": "code",
      "execution_count": 297,
      "metadata": {},
      "outputs": [],
      "source": [
        "if run.status == \"failed\":\n",
        "    # Check if you got \"Rate limit is exceeded.\", then you want to get more quota\n",
        "    print(f\"Run failed: {run.last_error}\")"
      ]
    },
    {
      "cell_type": "markdown",
      "metadata": {},
      "source": [
        "### Step 5: Extract Insights\n",
        "After the agent processes the prompt, we retrieve its responses, which contain the requested insights. This step ensures that the conversation thread is queried to fetch all relevant messages generated during the interaction."
      ]
    },
    {
      "cell_type": "code",
      "execution_count": 298,
      "metadata": {},
      "outputs": [
        {
          "name": "stdout",
          "output_type": "stream",
          "text": [
            "Run completed!\n",
            "\n",
            "MESSAGES\n",
            "\n",
            "Amazon provides the following certifications:\n",
            "\n",
            "1. **AWS Certified Solutions Architect – Professional**\n",
            "2. **AWS Certified Solutions Architect Associate**\n",
            "3. **AWS Solutions Training for Partners: Machine Learning on AWS - Business (Digital)**\n",
            "4. **AWS Certified SysOps Administrator - Associate**\n",
            "5. **AWS Certified Developer – Associate**\n",
            "6. **AWS Certified DevOps Engineer - Professional**\n",
            "7. **Certified Cloud Practitioner**\n",
            "8. **Certified Solutions Architect, Associate**\n",
            "9. **AWS Data Analytics - Specialty**\n",
            "10. **AWS Certified Machine Learning - Specialty**\n",
            "11. **AWS Certified Advanced Networking - Specialty**\n",
            "12. **AWS Technical Professional**\n",
            "\n",
            "These are directly sourced from your uploaded dataset【4:0†source】【4:1†source】【4:3†source】【4:5†source】【4:9†source】【4:11†source】. Let me know if you would like further details on any specific certification!\n",
            "Which certification provided by Amazon\n"
          ]
        }
      ],
      "source": [
        "# Retrieves all messages from the thread in ascending order after the user message\n",
        "messages = agent_client.messages.list(thread_id=thread.id, order=\"asc\", after=message.id)\n",
        "\n",
        "print(\"Run completed!\\n\\nMESSAGES\\n\")\n",
        "\n",
        "\n",
        "messages = agent_client.messages.list(thread_id=thread.id)\n",
        "for msg in messages:\n",
        "    for content in msg.content:\n",
        "        if content[\"type\"] == \"text\":\n",
        "            print(content[\"text\"][\"value\"])"
      ]
    },
    {
      "cell_type": "code",
      "execution_count": null,
      "metadata": {},
      "outputs": [],
      "source": []
    },
    {
      "cell_type": "code",
      "execution_count": null,
      "metadata": {},
      "outputs": [],
      "source": []
    },
    {
      "cell_type": "markdown",
      "metadata": {},
      "source": [
        "## **Clean Up**\n",
        "\n",
        "Properly cleaning up Azure resources after completing the analysis is essential to maintain a tidy Azure AI Agent Service Project environment and to avoid incurring unnecessary costs."
      ]
    },
    {
      "cell_type": "markdown",
      "metadata": {},
      "source": [
        "### Step 1: Deleting the Vector Store\n",
        "Remove the Vector Store to free up storage resources."
      ]
    },
    {
      "cell_type": "code",
      "execution_count": null,
      "metadata": {},
      "outputs": [
        {
          "name": "stdout",
          "output_type": "stream",
          "text": [
            "Deleted vector store\n"
          ]
        }
      ],
      "source": [
        "# project_client.agents.vector_stores._delete_vector_store(vector_store.id)\n",
        "# print(\"Deleted vector store\")"
      ]
    },
    {
      "cell_type": "markdown",
      "metadata": {},
      "source": [
        "### Step 2: Deleting Uploaded Files\n",
        "Ensure all uploaded files are removed from Azure to maintain a clean environment.\n"
      ]
    },
    {
      "cell_type": "code",
      "execution_count": null,
      "metadata": {},
      "outputs": [
        {
          "name": "stdout",
          "output_type": "stream",
          "text": [
            "Deleted file: assistant-6PH86ohbBSAqEeJA4K8obg\n"
          ]
        }
      ],
      "source": [
        "# # For each file id in the list, delete the file\n",
        "# for file_id in uploaded_file_ids:\n",
        "#     project_client.agents.files.delete(file_id)\n",
        "#     print(f\"Deleted file: {file_id}\")"
      ]
    },
    {
      "cell_type": "markdown",
      "metadata": {},
      "source": [
        "### Step 3: Deleting the AI Agent\n",
        "Remove the AI Agent to release associated resources."
      ]
    },
    {
      "cell_type": "code",
      "execution_count": 249,
      "metadata": {},
      "outputs": [
        {
          "data": {
            "text/plain": [
              "'asst_DBwk4CVMc9UWS7TtvbayRXOl'"
            ]
          },
          "execution_count": 249,
          "metadata": {},
          "output_type": "execute_result"
        }
      ],
      "source": [
        "agent.id"
      ]
    },
    {
      "cell_type": "code",
      "execution_count": null,
      "metadata": {},
      "outputs": [],
      "source": [
        "# # Get agent list\n",
        "# agents = agent_client.list_agents()\n",
        "# # Check if the agent exists in the list\n",
        "# agent_exists = any(a.id == agent.id for a in agents)\n",
        "# agent_name = \"Certification Manager Agent\"\n",
        "# if agent_exists:\n",
        "#     # If the agent exists in the list, delete it\n",
        "#     print(\"Agent exists to delete.\")\n",
        "#     agent_client.delete_agent(agent_id=agent.id)"
      ]
    },
    {
      "cell_type": "markdown",
      "metadata": {},
      "source": [
        "### Step 4: Deleting local Markdown files\n",
        "Remove the local Markdown files generated during this scenario to maintain a clean local environment."
      ]
    },
    {
      "cell_type": "code",
      "execution_count": null,
      "metadata": {},
      "outputs": [
        {
          "name": "stdout",
          "output_type": "stream",
          "text": [
            "Deleted local markdown file: data/uploads/workday_data.md\n"
          ]
        }
      ],
      "source": [
        "# # Delete all local markdown files from the output directory\n",
        "# for file_path in markdown_file_paths:\n",
        "#     Path(file_path).unlink()\n",
        "#     print(f\"Deleted local markdown file: {file_path}\")"
      ]
    }
  ],
  "metadata": {
    "kernelspec": {
      "display_name": ".venv",
      "language": "python",
      "name": "python3"
    },
    "language_info": {
      "codemirror_mode": {
        "name": "ipython",
        "version": 3
      },
      "file_extension": ".py",
      "mimetype": "text/x-python",
      "name": "python",
      "nbconvert_exporter": "python",
      "pygments_lexer": "ipython3",
      "version": "3.11.11"
    }
  },
  "nbformat": 4,
  "nbformat_minor": 2
}
